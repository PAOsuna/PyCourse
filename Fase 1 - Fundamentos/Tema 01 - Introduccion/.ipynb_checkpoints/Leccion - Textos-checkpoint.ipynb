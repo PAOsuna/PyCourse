{
 "cells": [
  {
   "cell_type": "code",
   "execution_count": 2,
   "id": "be08fcb5",
   "metadata": {},
   "outputs": [
    {
     "name": "stdout",
     "output_type": "stream",
     "text": [
      "Hola mundo\n"
     ]
    }
   ],
   "source": [
    "print(\"Hola mundo\")"
   ]
  },
  {
   "cell_type": "code",
   "execution_count": 3,
   "id": "cb0969c7",
   "metadata": {},
   "outputs": [
    {
     "name": "stdout",
     "output_type": "stream",
     "text": [
      "un texto\t una tabulacion\n"
     ]
    }
   ],
   "source": [
    "print (\"un texto\\t una tabulacion\")"
   ]
  },
  {
   "cell_type": "code",
   "execution_count": 5,
   "id": "cbc8246a",
   "metadata": {},
   "outputs": [
    {
     "name": "stdout",
     "output_type": "stream",
     "text": [
      "Un texto \n",
      "una nueva linea\n"
     ]
    }
   ],
   "source": [
    "print(\"Un texto \\nuna nueva linea\")"
   ]
  },
  {
   "cell_type": "code",
   "execution_count": 6,
   "id": "f78b5285",
   "metadata": {},
   "outputs": [
    {
     "name": "stdout",
     "output_type": "stream",
     "text": [
      "C:\\Users\\aleja\\Desktop\\PyCourse\n"
     ]
    }
   ],
   "source": [
    "print(r\"C:\\Users\\aleja\\Desktop\\PyCourse\")\n",
    "# funcion raw"
   ]
  },
  {
   "cell_type": "code",
   "execution_count": 10,
   "id": "6e6e05ea",
   "metadata": {},
   "outputs": [
    {
     "name": "stdout",
     "output_type": "stream",
     "text": [
      "\n",
      "Una linea\n",
      "otra linea\n",
      "otra nueva linea\n"
     ]
    }
   ],
   "source": [
    "print(\"\"\"\n",
    "Una linea\n",
    "otra linea\n",
    "otra nueva linea\"\"\")"
   ]
  },
  {
   "cell_type": "code",
   "execution_count": 12,
   "id": "20969935",
   "metadata": {},
   "outputs": [],
   "source": [
    "c = \"Esto es una cadena\\ncon dos lineas\""
   ]
  },
  {
   "cell_type": "code",
   "execution_count": 14,
   "id": "3cf7821b",
   "metadata": {},
   "outputs": [
    {
     "name": "stdout",
     "output_type": "stream",
     "text": [
      "Esto es una cadena\n",
      "con dos lineas\n"
     ]
    }
   ],
   "source": [
    "c\n",
    "print (c)"
   ]
  },
  {
   "cell_type": "code",
   "execution_count": 18,
   "id": "25936255",
   "metadata": {},
   "outputs": [
    {
     "name": "stdout",
     "output_type": "stream",
     "text": [
      "Esto es una cadena\n",
      "con dos lineasEsto es una cadena\n",
      "con dos lineas\n"
     ]
    }
   ],
   "source": [
    "c + c\n",
    "print(c+c)"
   ]
  },
  {
   "cell_type": "code",
   "execution_count": 23,
   "id": "34764cf6",
   "metadata": {},
   "outputs": [
    {
     "name": "stdout",
     "output_type": "stream",
     "text": [
      "Una cadena compuesta de dos cadenas\n"
     ]
    }
   ],
   "source": [
    "s = \"Una cadena\" \" compuesta de dos cadenas\"\n",
    "print(s)"
   ]
  },
  {
   "cell_type": "code",
   "execution_count": 24,
   "id": "4df511c0",
   "metadata": {
    "scrolled": true
   },
   "outputs": [
    {
     "name": "stdout",
     "output_type": "stream",
     "text": [
      "una cadena otra cadena\n"
     ]
    }
   ],
   "source": [
    "c1 = \"una cadena\"\n",
    "c2 = \"otra cadena\"\n",
    "print(c1 + \" \" + c2) "
   ]
  },
  {
   "cell_type": "code",
   "execution_count": 26,
   "id": "0b02449c",
   "metadata": {},
   "outputs": [
    {
     "data": {
      "text/plain": [
       "'h'"
      ]
     },
     "execution_count": 26,
     "metadata": {},
     "output_type": "execute_result"
    }
   ],
   "source": [
    "palabra = \"Python\"\n",
    "palabra[0] #caracter en la posicion 0\n",
    "palabra[3]\n",
    "\n"
   ]
  },
  {
   "cell_type": "code",
   "execution_count": 28,
   "id": "861b9718",
   "metadata": {},
   "outputs": [
    {
     "data": {
      "text/plain": [
       "'tho'"
      ]
     },
     "execution_count": 28,
     "metadata": {},
     "output_type": "execute_result"
    }
   ],
   "source": [
    "#Slicing\n",
    "palabra = \"Python\"\n",
    "palabra [0:2]\n",
    "palabra [2:-1]"
   ]
  },
  {
   "cell_type": "code",
   "execution_count": 30,
   "id": "1fa4aa4f",
   "metadata": {},
   "outputs": [
    {
     "data": {
      "text/plain": [
       "'Nython'"
      ]
     },
     "execution_count": 30,
     "metadata": {},
     "output_type": "execute_result"
    }
   ],
   "source": [
    "palabra = \"N\" + palabra [1:]\n",
    "palabra"
   ]
  },
  {
   "cell_type": "code",
   "execution_count": 31,
   "id": "e9e15283",
   "metadata": {},
   "outputs": [
    {
     "data": {
      "text/plain": [
       "6"
      ]
     },
     "execution_count": 31,
     "metadata": {},
     "output_type": "execute_result"
    }
   ],
   "source": [
    "len(palabra)"
   ]
  },
  {
   "cell_type": "code",
   "execution_count": 86,
   "id": "332ce1c8",
   "metadata": {},
   "outputs": [
    {
     "name": "stdout",
     "output_type": "stream",
     "text": [
      "Ramón García,7.6,Historia\n",
      "Ramón\n",
      "García\n",
      "7.6\n",
      "Historia\n",
      "Ramón García ha sacado un 7.6 en Historia\n"
     ]
    }
   ],
   "source": [
    "# Variables del ejercicio (no las modifiques)\n",
    "cadena_corrupta = \"airotsiH,6.7,aícraG nómaR\"\n",
    "\n",
    "# Completa el ejercicio\n",
    "cadena_volteada = cadena_corrupta [::-1]\n",
    "print(cadena_volteada)\n",
    "nombre = cadena_volteada [0:5]\n",
    "print(nombre)\n",
    "apellido = cadena_volteada [6:12]\n",
    "print(apellido)\n",
    "nota = cadena_volteada [13:16]\n",
    "print(nota)\n",
    "materia = cadena_volteada [17:]\n",
    "print(materia)\n",
    "\n",
    "cadena_formateada = nombre + \" \" +  apellido + \" ha sacado un \" + nota + \" en \" + materia \n",
    "print (cadena_formateada)"
   ]
  },
  {
   "cell_type": "code",
   "execution_count": null,
   "id": "48b340d8",
   "metadata": {},
   "outputs": [],
   "source": []
  },
  {
   "cell_type": "code",
   "execution_count": null,
   "id": "e4a005d1",
   "metadata": {},
   "outputs": [],
   "source": []
  }
 ],
 "metadata": {
  "kernelspec": {
   "display_name": "Python 3 (ipykernel)",
   "language": "python",
   "name": "python3"
  },
  "language_info": {
   "codemirror_mode": {
    "name": "ipython",
    "version": 3
   },
   "file_extension": ".py",
   "mimetype": "text/x-python",
   "name": "python",
   "nbconvert_exporter": "python",
   "pygments_lexer": "ipython3",
   "version": "3.10.5"
  }
 },
 "nbformat": 4,
 "nbformat_minor": 5
}
